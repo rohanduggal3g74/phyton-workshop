{
 "cells": [
  {
   "cell_type": "code",
   "execution_count": 1,
   "metadata": {},
   "outputs": [
    {
     "name": "stdout",
     "output_type": "stream",
     "text": [
      "enter a number:4\n",
      "even\n"
     ]
    }
   ],
   "source": [
    "#Q1.Check whether a number is even or odd\n",
    "x= int(input(\"enter a number:\"))\n",
    "if (x%2==0) :\n",
    "    print(\"even\")\n",
    "else :\n",
    "    print(\"odd\")"
   ]
  },
  {
   "cell_type": "code",
   "execution_count": 2,
   "metadata": {},
   "outputs": [
    {
     "name": "stdout",
     "output_type": "stream",
     "text": [
      "enter a year:2014\n",
      "not a leap year\n"
     ]
    }
   ],
   "source": [
    "#Q2.Check whether an entered year is leap year or not\n",
    "var= int(input(\"enter a year:\"))\n",
    "if var%4==0 :\n",
    "    print(\"it is a leap year\")\n",
    "else :\n",
    "    print(\"not a leap year\")"
   ]
  },
  {
   "cell_type": "code",
   "execution_count": 16,
   "metadata": {},
   "outputs": [
    {
     "name": "stdout",
     "output_type": "stream",
     "text": [
      "enter a letter:e\n",
      "consonant\n"
     ]
    }
   ],
   "source": [
    "#Q3.Write a program to check whether a character is vowel or consonants.\n",
    "var= (input(\"enter a letter:\"))\n",
    "if (var== 'a,e,i,o,u,A,E,I,O,U') :\n",
    "    print(\"vowel\")\n",
    "else :\n",
    "    print(   'consonant')"
   ]
  },
  {
   "cell_type": "code",
   "execution_count": 18,
   "metadata": {},
   "outputs": [
    {
     "name": "stdout",
     "output_type": "stream",
     "text": [
      "enter the first number:5\n",
      "enetr the second number:8\n",
      "5 is smaller\n"
     ]
    }
   ],
   "source": [
    "#Q4. Write a program to find the smallest of two numbers.\n",
    "x= int(input(\"enter the first number:\"))\n",
    "y= int(input(\"enetr the second number:\"))\n",
    "if x<y :\n",
    "    print(x, \"is smaller\")\n",
    "else:\n",
    "    print(y, \"is smaller\")"
   ]
  },
  {
   "cell_type": "code",
   "execution_count": 22,
   "metadata": {},
   "outputs": [
    {
     "name": "stdout",
     "output_type": "stream",
     "text": [
      "enter a number:6\n",
      "factorial is  \n",
      "720\n"
     ]
    }
   ],
   "source": [
    "#Q5.Find the Factorial of a Number\n",
    "x= int(input(\"enter a number:\"))\n",
    "fact= 1\n",
    "for i in range(1, x+1):\n",
    "   fact= fact*i\n",
    "print(\"factorial is\", \" \")\n",
    "print(fact)"
   ]
  },
  {
   "cell_type": "code",
   "execution_count": 16,
   "metadata": {},
   "outputs": [
    {
     "name": "stdout",
     "output_type": "stream",
     "text": [
      "    *\n",
      "   * *\n",
      " *  *  *\n",
      "*  *  *  *\n"
     ]
    }
   ],
   "source": [
    "#Q6.Write a program to print this pattern.\n",
    "\n",
    "print('    '+\"*\")\n",
    "print('   '+\"*\"+' '+\"*\")\n",
    "print(' '+\"*\"+'  '+\"*\"+'  '+\"*\")\n",
    "print(\"*\"+'  '+\"*\"+'  '+\"*\"+'  '+\"*\")"
   ]
  },
  {
   "cell_type": "code",
   "execution_count": 23,
   "metadata": {},
   "outputs": [
    {
     "name": "stdout",
     "output_type": "stream",
     "text": [
      "Enter the terms7\n",
      "1 1 2 3 5 8 13 "
     ]
    }
   ],
   "source": [
    "#Q7.Write a program to print this series\n",
    "a=int(input(\"Enter the terms\"))\n",
    "f=1                                     \n",
    "s=1                                         \n",
    "if a<=0:\n",
    "    print(\"The requested series is\",f)\n",
    "else:\n",
    "    print(f,s,end=\" \")\n",
    "    for x in range(2,a):\n",
    "        next=f+s                           \n",
    "        print(next,end=\" \")\n",
    "        f=s\n",
    "        s=next"
   ]
  },
  {
   "cell_type": "code",
   "execution_count": 24,
   "metadata": {},
   "outputs": [
    {
     "name": "stdout",
     "output_type": "stream",
     "text": [
      "enter a number:5\n",
      "5 is a prime number\n"
     ]
    }
   ],
   "source": [
    "#Q8.to find whether anumber is prime or not.\n",
    "num= int(input(\"enter a number:\")) \n",
    "if num > 1: \n",
    "      \n",
    "   for i in range(2, num//2):   \n",
    "       if (num % i) == 0: \n",
    "           print(num, \"is not a prime number\") \n",
    "           break\n",
    "   else: \n",
    "       print(num, \"is a prime number\") \n",
    "  \n",
    "else: \n",
    "   print(num, \"is not a prime number\") "
   ]
  },
  {
   "cell_type": "code",
   "execution_count": 30,
   "metadata": {},
   "outputs": [
    {
     "name": "stdout",
     "output_type": "stream",
     "text": [
      "select operation -\n",
      "1. Add \n",
      "2. Subtract \n",
      "3. Multiply \n",
      "4. Divide \n",
      "\n",
      "Select operations form 1, 2, 3, 4 :3\n",
      "Enter first number: 7\n",
      "Enter second number: 5\n",
      "7 * 5 = 35\n"
     ]
    }
   ],
   "source": [
    "#Q9.Make a Simple Calculator.\n",
    "def add(num1, num2): \n",
    "    return num1 + num2 \n",
    "   \n",
    "def subtract(num1, num2): \n",
    "    return num1 - num2 \n",
    "\n",
    "def multiply(num1, num2): \n",
    "    return num1 * num2 \n",
    "   \n",
    "def divide(num1, num2): \n",
    "    return num1 / num2 \n",
    "  \n",
    "print(\"select operation -\\n\" + \"1. Add \\n\" + \"2. Subtract \\n\" + \"3. Multiply \\n\" +  \"4. Divide \\n\") \n",
    "  \n",
    "  \n",
    "  \n",
    "select = input(\"Select operations form 1, 2, 3, 4 :\") \n",
    "  \n",
    "number_1 = int(input(\"Enter first number: \")) \n",
    "number_2 = int(input(\"Enter second number: \")) \n",
    "  \n",
    "if select == '1': \n",
    "    print(number_1, \"+\", number_2, \"=\", \n",
    "                    add(number_1, number_2)) \n",
    "  \n",
    "elif select == '2': \n",
    "    print(number_1, \"-\", number_2, \"=\", \n",
    "                    subtract(number_1, number_2)) \n",
    "  \n",
    "elif select == '3': \n",
    "    print(number_1, \"*\", number_2, \"=\", \n",
    "                    multiply(number_1, number_2)) \n",
    "  \n",
    "elif select == '4': \n",
    "    print(number_1, \"/\", number_2, \"=\", \n",
    "                    divide(number_1, number_2)) \n",
    "else: \n",
    "    print(\"Invalid input\")"
   ]
  },
  {
   "cell_type": "code",
   "execution_count": null,
   "metadata": {},
   "outputs": [],
   "source": []
  }
 ],
 "metadata": {
  "kernelspec": {
   "display_name": "Python 3",
   "language": "python",
   "name": "python3"
  },
  "language_info": {
   "codemirror_mode": {
    "name": "ipython",
    "version": 3
   },
   "file_extension": ".py",
   "mimetype": "text/x-python",
   "name": "python",
   "nbconvert_exporter": "python",
   "pygments_lexer": "ipython3",
   "version": "3.7.4"
  }
 },
 "nbformat": 4,
 "nbformat_minor": 2
}
