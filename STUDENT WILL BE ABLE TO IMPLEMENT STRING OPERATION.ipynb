{
 "cells": [
  {
   "cell_type": "code",
   "execution_count": 1,
   "metadata": {},
   "outputs": [
    {
     "name": "stdout",
     "output_type": "stream",
     "text": [
      "while loop\n",
      "while loop\n",
      "while loop\n",
      "else statement\n"
     ]
    }
   ],
   "source": [
    "#Q1. WAP  to demonstrate while loop with else statement.\n",
    "count = 0\n",
    "\n",
    "while count < 3:\n",
    "    print(\"while loop\")\n",
    "    count = count + 1\n",
    "else:\n",
    "    print(\"else statement\")"
   ]
  },
  {
   "cell_type": "code",
   "execution_count": 10,
   "metadata": {},
   "outputs": [
    {
     "ename": "IndentationError",
     "evalue": "unindent does not match any outer indentation level (<tokenize>, line 6)",
     "output_type": "error",
     "traceback": [
      "\u001b[1;36m  File \u001b[1;32m\"<tokenize>\"\u001b[1;36m, line \u001b[1;32m6\u001b[0m\n\u001b[1;33m    if o<5:\u001b[0m\n\u001b[1;37m    ^\u001b[0m\n\u001b[1;31mIndentationError\u001b[0m\u001b[1;31m:\u001b[0m unindent does not match any outer indentation level\n"
     ]
    }
   ],
   "source": [
    "#Q2.Print 1st 5 even numbers (use break statement).\n",
    "n=0\n",
    "o=0\n",
    " while n<20:\n",
    "     n+=1\n",
    "    if o<5:\n",
    "        if n%2==0:\n",
    "            print(n)\n",
    "            o+=1\n",
    "    else:\n",
    "       break"
   ]
  },
  {
   "cell_type": "code",
   "execution_count": 3,
   "metadata": {},
   "outputs": [],
   "source": [
    "\n"
   ]
  },
  {
   "cell_type": "code",
   "execution_count": 4,
   "metadata": {},
   "outputs": [
    {
     "name": "stdout",
     "output_type": "stream",
     "text": [
      "11\n",
      "9\n",
      "89\n"
     ]
    }
   ],
   "source": [
    "#Q3.WAP  to demonstrate Pass statements.\n",
    "for num in [20, 11, 9, 66, 4, 89, 44]:\n",
    "    if num%2 == 0:\n",
    "        pass\n",
    "    else:\n",
    "        print(num)"
   ]
  },
  {
   "cell_type": "code",
   "execution_count": 5,
   "metadata": {},
   "outputs": [
    {
     "name": "stdout",
     "output_type": "stream",
     "text": [
      "5\n"
     ]
    }
   ],
   "source": [
    "#Q5(A) Write a Python program to calculate the length of a string. \n",
    "str= \"hello\"\n",
    "count= len(str)\n",
    "print(count)\n"
   ]
  },
  {
   "cell_type": "code",
   "execution_count": 6,
   "metadata": {},
   "outputs": [
    {
     "name": "stdout",
     "output_type": "stream",
     "text": [
      "5\n"
     ]
    }
   ],
   "source": [
    "#Q5(B)\n",
    "count=0\n",
    "for i in str:\n",
    "    count= count+1\n",
    "print(count)\n",
    "   "
   ]
  },
  {
   "cell_type": "code",
   "execution_count": 7,
   "metadata": {},
   "outputs": [],
   "source": [
    "\n"
   ]
  },
  {
   "cell_type": "code",
   "execution_count": 8,
   "metadata": {},
   "outputs": [
    {
     "data": {
      "text/plain": [
       "'helo'"
      ]
     },
     "execution_count": 8,
     "metadata": {},
     "output_type": "execute_result"
    }
   ],
   "source": [
    "#Q6.writw a program to get a string made of the first 2 and the last 2 chars from a given a string.\n",
    "str=\"hello\"\n",
    "str[0:2]+ str[-2: ]"
   ]
  },
  {
   "cell_type": "code",
   "execution_count": null,
   "metadata": {},
   "outputs": [],
   "source": [
    "#Q7.Write a Python program to get a string from a given string where all occurrences of itsfirst char have been changed to '$', except the first char itself\n",
    "str1= (input(\"enter a string\"))\n",
    "print(str1)\n",
    "char1= str1[0]\n",
    "str2= str1.replace(char1, '$')\n",
    "print(char1+ str2[1: ])"
   ]
  },
  {
   "cell_type": "code",
   "execution_count": 6,
   "metadata": {},
   "outputs": [
    {
     "name": "stdout",
     "output_type": "stream",
     "text": [
      "enter a string:rohan\n",
      "enter the second string:duggal\n",
      "alhan dugro\n"
     ]
    }
   ],
   "source": [
    "#Q8.Write a Python program to get a single string from two given strings, separated by a space and swap the first two characters of each string. \n",
    "str1= input(\"enter a string:\")\n",
    "str2= input(\"enter the second string:\")\n",
    "print(str2[-2: ]+ str1[2:]+ \" \"+ str2[0:3]+ str1[0:2])"
   ]
  },
  {
   "cell_type": "code",
   "execution_count": 12,
   "metadata": {},
   "outputs": [
    {
     "name": "stdout",
     "output_type": "stream",
     "text": [
      "enter a string:rajma\n",
      "rajmaing\n"
     ]
    }
   ],
   "source": [
    "#Q9.Write a Python program to add 'ing' at the end of a given string (length should be at least 3). If the given string already ends with 'ing' then add 'ly' instead. If the string length of the given string is less than 3, leave it unchanged. \n",
    "str1= input(\"enter a string:\")\n",
    "count= len(str1)\n",
    "if count>2:\n",
    "    if str[-3:]=='ing':\n",
    "        str1= str1[0:-3]+\"ly\"\n",
    "    else:\n",
    "        str1= str1+\"ing\"\n",
    "print(str1)"
   ]
  },
  {
   "cell_type": "code",
   "execution_count": null,
   "metadata": {},
   "outputs": [],
   "source": []
  }
 ],
 "metadata": {
  "kernelspec": {
   "display_name": "Python 3",
   "language": "python",
   "name": "python3"
  },
  "language_info": {
   "codemirror_mode": {
    "name": "ipython",
    "version": 3
   },
   "file_extension": ".py",
   "mimetype": "text/x-python",
   "name": "python",
   "nbconvert_exporter": "python",
   "pygments_lexer": "ipython3",
   "version": "3.7.4"
  }
 },
 "nbformat": 4,
 "nbformat_minor": 2
}
