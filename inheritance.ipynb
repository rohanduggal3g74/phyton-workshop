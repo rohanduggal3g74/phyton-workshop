{
 "cells": [
  {
   "cell_type": "code",
   "execution_count": 1,
   "metadata": {},
   "outputs": [
    {
     "name": "stdout",
     "output_type": "stream",
     "text": [
      "animals have 4 legs\n",
      "animals have 4 legs\n"
     ]
    }
   ],
   "source": [
    "#q1\n",
    "class Animal:\n",
    "    def legs(self):\n",
    "        print(\"animals have 4 legs\")\n",
    "class Tiger(Animal):\n",
    "    pass\n",
    "class Dog(Animal):\n",
    "    Animal().legs()\n",
    "Tiger().legs()\n"
   ]
  },
  {
   "cell_type": "code",
   "execution_count": 2,
   "metadata": {},
   "outputs": [
    {
     "name": "stdout",
     "output_type": "stream",
     "text": [
      "Engineer\n",
      "Manager\n"
     ]
    }
   ],
   "source": [
    "#q2\n",
    "class Employee:\n",
    "    def printDesignation():\n",
    "        pass\n",
    "class Engineer(Employee):\n",
    "    def printDesignation():\n",
    "        print(\"Engineer\")\n",
    "class Manager(Employee):\n",
    "    def printDesignation():\n",
    "        print(\"Manager\")\n",
    "Engineer.printDesignation()\n",
    "Manager.printDesignation()"
   ]
  },
  {
   "cell_type": "code",
   "execution_count": 4,
   "metadata": {},
   "outputs": [],
   "source": [
    "#q3\n",
    "class Test:\n",
    "    def __init__(self,a,b):\n",
    "        self.a=a\n",
    "        self.b=b\n",
    "    def calc(self):\n",
    "        self.a+self.b       "
   ]
  },
  {
   "cell_type": "code",
   "execution_count": 5,
   "metadata": {},
   "outputs": [
    {
     "name": "stdout",
     "output_type": "stream",
     "text": [
      "Parent class\n",
      "Child class\n"
     ]
    }
   ],
   "source": [
    "#q4\n",
    "class P:\n",
    "    def __init__(self):\n",
    "        self.p=\"Parent class\"\n",
    "    def show(self):\n",
    "        print(self.p)\n",
    "class C(P):\n",
    "    def __init__(self):\n",
    "        self.p=\"Child class\"\n",
    "    def sho(self):\n",
    "        print(self.p)\n",
    "new=P()\n",
    "new1=C()\n",
    "new.show()\n",
    "new1.show()"
   ]
  },
  {
   "cell_type": "code",
   "execution_count": 6,
   "metadata": {},
   "outputs": [
    {
     "name": "stdout",
     "output_type": "stream",
     "text": [
      "A\n",
      "B\n",
      "C\n"
     ]
    }
   ],
   "source": [
    "#q5\n",
    "class A:\n",
    "    def m(self):\n",
    "        print(\"A\")\n",
    "class B:\n",
    "    def n(self):\n",
    "        print(\"B\")\n",
    "class C(A,B):\n",
    "    def o(self):\n",
    "        print(\"C\")\n",
    "x=C()\n",
    "x.m()\n",
    "x.n()\n",
    "x.o()"
   ]
  },
  {
   "cell_type": "code",
   "execution_count": null,
   "metadata": {},
   "outputs": [],
   "source": []
  }
 ],
 "metadata": {
  "kernelspec": {
   "display_name": "Python 3",
   "language": "python",
   "name": "python3"
  },
  "language_info": {
   "codemirror_mode": {
    "name": "ipython",
    "version": 3
   },
   "file_extension": ".py",
   "mimetype": "text/x-python",
   "name": "python",
   "nbconvert_exporter": "python",
   "pygments_lexer": "ipython3",
   "version": "3.7.4"
  }
 },
 "nbformat": 4,
 "nbformat_minor": 4
}
