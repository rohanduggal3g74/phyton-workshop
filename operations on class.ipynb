{
 "cells": [
  {
   "cell_type": "code",
   "execution_count": null,
   "metadata": {},
   "outputs": [],
   "source": []
  },
  {
   "cell_type": "code",
   "execution_count": null,
   "metadata": {},
   "outputs": [],
   "source": []
  },
  {
   "cell_type": "code",
   "execution_count": null,
   "metadata": {},
   "outputs": [],
   "source": []
  },
  {
   "cell_type": "code",
   "execution_count": null,
   "metadata": {},
   "outputs": [],
   "source": []
  },
  {
   "cell_type": "code",
   "execution_count": 6,
   "metadata": {},
   "outputs": [
    {
     "name": "stdout",
     "output_type": "stream",
     "text": [
      "10\n",
      "20\n",
      "30\n"
     ]
    },
    {
     "ename": "AttributeError",
     "evalue": "'Triangle' object has no attribute 'print_slide'",
     "output_type": "error",
     "traceback": [
      "\u001b[1;31m---------------------------------------------------------------------------\u001b[0m",
      "\u001b[1;31mAttributeError\u001b[0m                            Traceback (most recent call last)",
      "\u001b[1;32m<ipython-input-6-f8c58338e035>\u001b[0m in \u001b[0;36m<module>\u001b[1;34m\u001b[0m\n\u001b[0;32m     17\u001b[0m \u001b[0mob1\u001b[0m\u001b[1;33m=\u001b[0m\u001b[0mTriangle\u001b[0m\u001b[1;33m(\u001b[0m\u001b[1;33m)\u001b[0m\u001b[1;33m\u001b[0m\u001b[1;33m\u001b[0m\u001b[0m\n\u001b[0;32m     18\u001b[0m \u001b[0mob1\u001b[0m\u001b[1;33m.\u001b[0m\u001b[0mcreate_triangle\u001b[0m\u001b[1;33m(\u001b[0m\u001b[1;36m10\u001b[0m\u001b[1;33m,\u001b[0m\u001b[1;36m20\u001b[0m\u001b[1;33m,\u001b[0m\u001b[1;36m30\u001b[0m\u001b[1;33m)\u001b[0m\u001b[1;33m\u001b[0m\u001b[1;33m\u001b[0m\u001b[0m\n\u001b[1;32m---> 19\u001b[1;33m \u001b[0mob1\u001b[0m\u001b[1;33m.\u001b[0m\u001b[0mprint_slide\u001b[0m\u001b[1;33m(\u001b[0m\u001b[1;33m)\u001b[0m\u001b[1;33m\u001b[0m\u001b[1;33m\u001b[0m\u001b[0m\n\u001b[0m",
      "\u001b[1;31mAttributeError\u001b[0m: 'Triangle' object has no attribute 'print_slide'"
     ]
    }
   ],
   "source": [
    "#Q1 Write a Python program that create a class tringle and define two methods, create_triangle() and print_sides().\n",
    "class Triangle:\n",
    "    a=0\n",
    "    b=0\n",
    "    c=0\n",
    "    def create_triangle(self,side1,side2,side3):\n",
    "        a=side1\n",
    "        b=side2\n",
    "        c=side3\n",
    "        print(a)\n",
    "        print(b)\n",
    "        print(c)\n",
    "    def print_slides(self):\n",
    "        print(self.a)\n",
    "        print(self.b)\n",
    "        print(self.c)\n",
    "        \n",
    "ob1=Triangle()\n",
    "ob1.create_triangle(10,20,30)\n",
    "ob1.print_slide()"
   ]
  },
  {
   "cell_type": "code",
   "execution_count": 1,
   "metadata": {},
   "outputs": [
    {
     "name": "stdout",
     "output_type": "stream",
     "text": [
      "Enter The First Side10\n",
      "Enter The Second Side 20\n",
      "Enter The Third Side 30\n",
      "The Sides Of Triangle are\n",
      "10\n",
      "20\n",
      "30\n"
     ]
    }
   ],
   "source": [
    "#Q1 Write a Python program that create a class tringle and define two methods, create_triangle() and print_sides(). by taking input from user\n",
    "class Triangle:\n",
    "    a=0\n",
    "    b=0\n",
    "    c=0\n",
    "    def create_triangle(self):\n",
    "        self.a=int(input(\"Enter The First Side\"))\n",
    "        self.b=int(input(\"Enter The Second Side \"))\n",
    "        self.c = int(input(\"Enter The Third Side \"))\n",
    "    def printside(self):\n",
    "        print(self.a)\n",
    "        print(self.b)\n",
    "        print(self.c)\n",
    "\n",
    "tr=Triangle()\n",
    "tr.create_triangle()\n",
    "print(\"The Sides Of Triangle are\")\n",
    "tr.printside()\n",
    "\n"
   ]
  },
  {
   "cell_type": "code",
   "execution_count": 14,
   "metadata": {},
   "outputs": [
    {
     "name": "stdout",
     "output_type": "stream",
     "text": [
      "Enter The Stringabc\n",
      "THE INPUT STRING IS abc\n"
     ]
    }
   ],
   "source": [
    "#q2 2. Write a Python program to create a class with two methods get_String() and print_String().\n",
    "\n",
    "class halwa:\n",
    "    a=\"\"\n",
    "    def gets(self):\n",
    "        self.a=input(\"Enter The String\")\n",
    "        return (self.a)\n",
    "ha=halwa()\n",
    "print(\"THE INPUT STRING IS\" ,ha.gets())\n"
   ]
  },
  {
   "cell_type": "code",
   "execution_count": 15,
   "metadata": {},
   "outputs": [
    {
     "name": "stdout",
     "output_type": "stream",
     "text": [
      "Enter The Length5\n",
      "Enter The width4\n",
      "The Perimeter of Rectangle is 18\n"
     ]
    }
   ],
   "source": [
    "#q3. Write a Python program to create a class Rectangle that takes the parameter length and width. The class should also contain a method for computing its perimeter.\n",
    "class Rectangle:\n",
    "    w=0.0\n",
    "    l=0.0\n",
    "    def calper(self):\n",
    "        self.l=int(input(\"Enter The Length\"))\n",
    "        self.w=int(input(\"Enter The width\"))\n",
    "        return (2*(self.l+self.w))\n",
    "r1=Rectangle()\n",
    "print(\"The Perimeter of Rectangle is\",r1.calper())"
   ]
  },
  {
   "cell_type": "code",
   "execution_count": 17,
   "metadata": {},
   "outputs": [
    {
     "name": "stdout",
     "output_type": "stream",
     "text": [
      "Enter The Radius4\n",
      "The Area Of circle is 50.24\n",
      "The Perimeter of Circle is 25.12\n"
     ]
    }
   ],
   "source": [
    "#q4 4.  Write a Python program to create a class Circle  that takes the parameter radius. The class should also contain two methods for computing its area & perimeter respectively. Use constructor to implement initialization of parameters\n",
    "class Circle:\n",
    "    rad=0.0\n",
    "    def __init__(self):\n",
    "        self.rad=float(input(\"Enter The Radius\"))\n",
    "    def areac(self):\n",
    "        return (3.14*self.rad*self.rad)\n",
    "    def perr(self):\n",
    "        return (2*3.14*self.rad)\n",
    "c1=Circle()\n",
    "print(\"The Area Of circle is\" ,c1.areac())\n",
    "print(\"The Perimeter of Circle is\" , c1.perr())\n",
    "\n",
    "\n"
   ]
  },
  {
   "cell_type": "code",
   "execution_count": 5,
   "metadata": {},
   "outputs": [
    {
     "name": "stdout",
     "output_type": "stream",
     "text": [
      "Enter The Radius6\n",
      "The Area Of circle is 113.03999999999999\n",
      "The Circumference of circle is 37.68\n"
     ]
    }
   ],
   "source": [
    "#q5.Create a Cricle class and intialize it with radius. Make two methods getArea and getCircumference inside this class.\n",
    "class Circle2:\n",
    "    rad=0.0\n",
    "    def __init__(self):\n",
    "        self.rad=float(input(\"Enter The Radius\"))\n",
    "    def areac(self):\n",
    "        return (3.14*self.rad*self.rad)\n",
    "    def circum(self):\n",
    "        return (2*3.14*self.rad)\n",
    "c2=Circle2()\n",
    "print(\"The Area Of circle is\" ,c2.areac())\n",
    "print(\"The Circumference of circle is\" , c2.circum())\n",
    "\n",
    "\n"
   ]
  },
  {
   "cell_type": "code",
   "execution_count": 19,
   "metadata": {},
   "outputs": [
    {
     "name": "stdout",
     "output_type": "stream",
     "text": [
      "Enter the Temp in F99\n",
      "The Conversion of F to C is 37.22222222222222\n"
     ]
    }
   ],
   "source": [
    "#q6i-1. convertFahrenheit - It will take celsius and will print it into Fahrenheit.\n",
    "class Temp:\n",
    "    f=0.0\n",
    "    c=0.0\n",
    "    def convf(self):\n",
    "        self.f=int(input(\"Enter the Temp in F\"))\n",
    "        return ((self.f-32)/1.8)\n",
    "    def convc(self):\n",
    "        self.c=int(input(\"Enter The Temp in c\"))\n",
    "        return ((self.c*1.8)+32)\n",
    "te=Temp()\n",
    "print(\"The Conversion of F to C is\",te.convf())"
   ]
  },
  {
   "cell_type": "code",
   "execution_count": 20,
   "metadata": {},
   "outputs": [
    {
     "name": "stdout",
     "output_type": "stream",
     "text": [
      "Enter The Temp in c36\n",
      "The Conversion of C to F is 96.8\n"
     ]
    }
   ],
   "source": [
    "#q6-ii convertCelsius - It will take Fahrenheit and will convert it into Celsius.\n",
    "class Temp:\n",
    "    f=0.0\n",
    "    c=0.0\n",
    "    def convf(self):\n",
    "        self.f=int(input(\"Enter the Temp in F\"))\n",
    "        return ((self.f-32)/1.8)\n",
    "    def convc(self):\n",
    "        self.c=int(input(\"Enter The Temp in c\"))\n",
    "        return ((self.c*1.8)+32)\n",
    "te=Temp()\n",
    "\n",
    "print(\"The Conversion of C to F is\", te.convc())"
   ]
  },
  {
   "cell_type": "code",
   "execution_count": 22,
   "metadata": {},
   "outputs": [
    {
     "name": "stdout",
     "output_type": "stream",
     "text": [
      "('rohan duggal', 97, '2K18CSUN01129')\n",
      "Enter The Age of Student20\n",
      "The age of Student is 20\n",
      "Enter The Marks Of Student99\n",
      "The Update Marks Of Student is 99\n"
     ]
    }
   ],
   "source": [
    "#q77. Create a Student class and initialize it with name and roll number. Make methods to :\n",
    "#1. Display - It should display all informations of the student.\n",
    "#2. setAge - It should assign age to student\n",
    "#3. setMarks - It should assign marks to the student.\n",
    "class student():\n",
    "    name=\"\"\n",
    "    marks=0\n",
    "    age=0\n",
    "    Roll_No=\"\"\n",
    "    def display(self):\n",
    "        return (self.name,self.marks,self.Roll_No)\n",
    "    def setage(self):\n",
    "        self.age=int(input(\"Enter The Age of Student\"))\n",
    "        return (self.age)\n",
    "    def setmarks(self):\n",
    "        self.marks=int(input(\"Enter The Marks Of Student\"))\n",
    "        return (self.marks)\n",
    "stu=student()\n",
    "stu.name=\"rohan duggal\"\n",
    "stu.marks=97\n",
    "stu.Roll_No=\"2K18CSUN01129\"\n",
    "print(stu.display())\n",
    "print(\"The age of Student is\", stu.setage())\n",
    "print(\"The Update Marks Of Student is\", stu.setmarks())\n"
   ]
  },
  {
   "cell_type": "code",
   "execution_count": 24,
   "metadata": {},
   "outputs": [
    {
     "name": "stdout",
     "output_type": "stream",
     "text": [
      "Enter The Hour 2\n",
      "Enter the minute36\n",
      "Enter Another hour4\n",
      "Enter Another Minute32\n",
      "The Total Time is\n",
      "6 Hour and  68 min\n",
      "The Total Minute is 428\n"
     ]
    }
   ],
   "source": [
    "#q8 8. Create a Time class and initialize it with hours and minutes.\n",
    "#1. Make a method addTime which should take two time object and add them. E.g.- (2 hour and 50 min)+(1 hr and 20 min) is (4 hr and 10 min)\n",
    "#2. Make a method displayTime which should print the time.\n",
    "#3. Make a method DisplayMinute which should display the total minutes in the Time. E.g.- (1 hr 2 min) should display 62 minute.\n",
    "class Time:\n",
    "    hour = 0\n",
    "    hour1 = 0\n",
    "    min = 0\n",
    "    min1 = 0\n",
    "    tothr=0\n",
    "    totmin=0\n",
    "\n",
    "    def addTime(self):\n",
    "        self.hour = int(input(\"Enter The Hour \"))\n",
    "        self.min = int(input(\"Enter the minute\"))\n",
    "        self.hour1 = int(input(\"Enter Another hour\"))\n",
    "        self.min1 = int(input(\"Enter Another Minute\"))\n",
    "\n",
    "    def displaytime(self):\n",
    "        self.tothr=self.hour + self.hour1\n",
    "        self.totmin=self.min + self.min1\n",
    "        print(self.tothr,\"Hour and \",self.totmin,\"min\")\n",
    "    def displaymin(self):\n",
    "        return (60*self.tothr+self.totmin)\n",
    "\n",
    "\n",
    "\n",
    "\n",
    "b1 = Time()\n",
    "b1.addTime()\n",
    "print(\"The Total Time is\")\n",
    "b1.displaytime()\n",
    "print(\"The Total Minute is\",b1.displaymin())"
   ]
  },
  {
   "cell_type": "code",
   "execution_count": 25,
   "metadata": {},
   "outputs": [
    {
     "name": "stdout",
     "output_type": "stream",
     "text": [
      "Enter The String rohan\n",
      "nahor\n"
     ]
    }
   ],
   "source": [
    "#q9 9. Write a Python class to reverse a string word by word.\n",
    "class reversestring:\n",
    "    a=\"\"\n",
    "    def rev_fun(self):\n",
    "        self.a=input(\"Enter The String \")\n",
    "        return self.a[::-1]\n",
    "rev=reversestring()\n",
    "print(rev.rev_fun())"
   ]
  },
  {
   "cell_type": "code",
   "execution_count": null,
   "metadata": {},
   "outputs": [],
   "source": []
  }
 ],
 "metadata": {
  "kernelspec": {
   "display_name": "Python 3",
   "language": "python",
   "name": "python3"
  },
  "language_info": {
   "codemirror_mode": {
    "name": "ipython",
    "version": 3
   },
   "file_extension": ".py",
   "mimetype": "text/x-python",
   "name": "python",
   "nbconvert_exporter": "python",
   "pygments_lexer": "ipython3",
   "version": "3.7.4"
  }
 },
 "nbformat": 4,
 "nbformat_minor": 2
}
