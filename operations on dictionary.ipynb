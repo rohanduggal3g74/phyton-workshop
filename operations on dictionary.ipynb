{
 "cells": [
  {
   "cell_type": "code",
   "execution_count": 2,
   "metadata": {},
   "outputs": [
    {
     "name": "stdout",
     "output_type": "stream",
     "text": [
      "{'A': 42, 'B': 33, 'c': 50}\n"
     ]
    }
   ],
   "source": [
    "#Q1\n",
    "Number={\n",
    "    \"A\":42,\n",
    "    \"B\":33,\n",
    "    \"c\":50,\n",
    "}\n",
    "print(Number)"
   ]
  },
  {
   "cell_type": "code",
   "execution_count": 6,
   "metadata": {},
   "outputs": [
    {
     "name": "stdout",
     "output_type": "stream",
     "text": [
      "{1: 'akash', 2: 'kunal', 3: 'sanjeev'}\n"
     ]
    }
   ],
   "source": [
    "#q2\n",
    "rollno={\n",
    "    1:\"akash\",\n",
    "    2:\"kunal\",\n",
    "    3:\"sanjeev\",\n",
    "}\n",
    "print(rollno)"
   ]
  },
  {
   "cell_type": "code",
   "execution_count": 7,
   "metadata": {},
   "outputs": [
    {
     "name": "stdout",
     "output_type": "stream",
     "text": [
      "dict_items([('a', 32), ('b', 65)])\n"
     ]
    }
   ],
   "source": [
    "#q3\n",
    "dic1={\n",
    "    \"a\":32,\n",
    "    \"b\":65,\n",
    "}\n",
    "print(dic1.items())"
   ]
  },
  {
   "cell_type": "code",
   "execution_count": 12,
   "metadata": {},
   "outputs": [
    {
     "name": "stdout",
     "output_type": "stream",
     "text": [
      "{'B': 65}\n"
     ]
    }
   ],
   "source": [
    "#q4\n",
    "dict1={\n",
    "    \"A\":32,\n",
    "    \"B\":65,\n",
    "\n",
    "}\n",
    "del dict1['A']\n",
    "print(dict1)"
   ]
  },
  {
   "cell_type": "code",
   "execution_count": 13,
   "metadata": {},
   "outputs": [
    {
     "name": "stdout",
     "output_type": "stream",
     "text": [
      "A 42\n",
      "B 33\n",
      "C 50\n"
     ]
    }
   ],
   "source": [
    "#q5\n",
    "dict1={\n",
    "    \"A\":42,\n",
    "    \"B\":33,\n",
    "    \"C\":50,\n",
    "}\n",
    "for key,value in dict1.items():\n",
    "    print(key,value)"
   ]
  },
  {
   "cell_type": "code",
   "execution_count": 15,
   "metadata": {},
   "outputs": [
    {
     "name": "stdout",
     "output_type": "stream",
     "text": [
      "mango in dic\n"
     ]
    }
   ],
   "source": [
    "#q6\n",
    "b={\n",
    "    \"mango\":\"fruit\",\n",
    "    \"apple\":\"fruit\",\n",
    "    \"potato\":\"vege\",\n",
    "}\n",
    "if(\"mango\" in b):\n",
    "    print(\"mango in dic\")\n",
    "else:\n",
    "    print(\"mango not in dic\")"
   ]
  },
  {
   "cell_type": "code",
   "execution_count": 17,
   "metadata": {},
   "outputs": [
    {
     "name": "stdout",
     "output_type": "stream",
     "text": [
      "{'A': 'X', 'B': 33, 'C': 50}\n"
     ]
    }
   ],
   "source": [
    "#q7\n",
    "dict1={\n",
    "    \"A\":42,\n",
    "    \"B\":33,\n",
    "    \"C\":50,\n",
    "}\n",
    "dict1[\"A\"]=\"X\"\n",
    "print(dict1)"
   ]
  },
  {
   "cell_type": "code",
   "execution_count": 18,
   "metadata": {},
   "outputs": [
    {
     "name": "stdout",
     "output_type": "stream",
     "text": [
      "{'A': '65', 'B': 33, 'C': 50}\n"
     ]
    }
   ],
   "source": [
    "#q8\n",
    "#q7\n",
    "dict1={\n",
    "    \"A\":42,\n",
    "    \"B\":33,\n",
    "    \"C\":50,\n",
    "}\n",
    "dict1[\"A\"]=\"65\"\n",
    "print(dict1)"
   ]
  },
  {
   "cell_type": "code",
   "execution_count": 20,
   "metadata": {},
   "outputs": [
    {
     "ename": "NameError",
     "evalue": "name 'cmp' is not defined",
     "output_type": "error",
     "traceback": [
      "\u001b[1;31m---------------------------------------------------------------------------\u001b[0m",
      "\u001b[1;31mNameError\u001b[0m                                 Traceback (most recent call last)",
      "\u001b[1;32m<ipython-input-20-1381ad542830>\u001b[0m in \u001b[0;36m<module>\u001b[1;34m\u001b[0m\n\u001b[0;32m     10\u001b[0m     \u001b[1;34m\"C\"\u001b[0m\u001b[1;33m:\u001b[0m\u001b[1;36m50\u001b[0m\u001b[1;33m,\u001b[0m\u001b[1;33m\u001b[0m\u001b[1;33m\u001b[0m\u001b[0m\n\u001b[0;32m     11\u001b[0m }\n\u001b[1;32m---> 12\u001b[1;33m \u001b[0mcmp\u001b[0m\u001b[1;33m(\u001b[0m\u001b[0mdic1\u001b[0m\u001b[1;33m,\u001b[0m\u001b[0mdic2\u001b[0m\u001b[1;33m)\u001b[0m\u001b[1;33m\u001b[0m\u001b[1;33m\u001b[0m\u001b[0m\n\u001b[0m\u001b[0;32m     13\u001b[0m \u001b[0mprint\u001b[0m\u001b[1;33m(\u001b[0m\u001b[0mcmp\u001b[0m\u001b[1;33m(\u001b[0m\u001b[1;33m)\u001b[0m\u001b[1;33m)\u001b[0m\u001b[1;33m\u001b[0m\u001b[1;33m\u001b[0m\u001b[0m\n",
      "\u001b[1;31mNameError\u001b[0m: name 'cmp' is not defined"
     ]
    }
   ],
   "source": [
    "#q9\n",
    "dict1={\n",
    "    \"A\":42,\n",
    "    \"B\":33,\n",
    "    \"C\":50,\n",
    "}\n",
    "dict2={\n",
    "    \"A\":42,\n",
    "    \"B\":33,\n",
    "    \"C\":50,\n",
    "}\n",
    "cmp(dic1,dic2)\n",
    "print(cmp())"
   ]
  },
  {
   "cell_type": "code",
   "execution_count": 24,
   "metadata": {},
   "outputs": [
    {
     "name": "stdout",
     "output_type": "stream",
     "text": [
      "{1: 1, 2: 4, 3: 9, 4: 16, 5: 25, 6: 36, 7: 49, 8: 64, 9: 81, 10: 100}\n"
     ]
    }
   ],
   "source": [
    "#q10\n",
    "dict1={}\n",
    "for key in range(1,11):\n",
    "    dict1[key]=key*key\n",
    "print(dict1)"
   ]
  },
  {
   "cell_type": "code",
   "execution_count": 29,
   "metadata": {},
   "outputs": [
    {
     "name": "stdout",
     "output_type": "stream",
     "text": [
      "{'A': 12, 1: 'ABC', 5: {'A': 16, 2: 'DEF'}, 'C': 17}\n"
     ]
    }
   ],
   "source": [
    "#q13\n",
    "dict1={\n",
    "    \"A\":12,\n",
    "    1:\"ABC\",\n",
    "    5:{\n",
    "        \"A\":16,\n",
    "        2:\"DEF\",\n",
    "     },\n",
    "    \"C\":17,\n",
    "}\n",
    "print(dict1)"
   ]
  },
  {
   "cell_type": "code",
   "execution_count": 30,
   "metadata": {},
   "outputs": [
    {
     "name": "stdout",
     "output_type": "stream",
     "text": [
      "None\n"
     ]
    }
   ],
   "source": [
    "#q14\n",
    "dict1={\n",
    "    \"A\":42,\n",
    "    \"B\":33,\n",
    "    \"C\":50,\n",
    "}\n",
    "print(dict1.clear())"
   ]
  },
  {
   "cell_type": "code",
   "execution_count": 31,
   "metadata": {},
   "outputs": [
    {
     "name": "stdout",
     "output_type": "stream",
     "text": [
      "{'a': 1, 'b': 2}\n",
      "{'c': 2, 'd': 4}\n",
      "{'e': 5, 'f': 6}\n"
     ]
    }
   ],
   "source": [
    "#Q15\n",
    "d1={\"a\":1,\"b\":2}\n",
    "d2={\"c\":2,\"d\":4}\n",
    "d3={\"e\":5,\"f\":6}\n",
    "for d in (d1,d2,d3):\n",
    "    d.update(d)\n",
    "    print(d)"
   ]
  },
  {
   "cell_type": "code",
   "execution_count": 37,
   "metadata": {},
   "outputs": [
    {
     "name": "stdout",
     "output_type": "stream",
     "text": [
      "125\n"
     ]
    }
   ],
   "source": [
    "#q16\n",
    "dict1={\n",
    "    \"A\":42,\n",
    "    \"B\":33,\n",
    "    \"C\":50\n",
    "}\n",
    "sum=0\n",
    "for key,value in dict1.items():\n",
    "    sum=sum+value\n",
    "print(sum)"
   ]
  },
  {
   "cell_type": "code",
   "execution_count": 38,
   "metadata": {},
   "outputs": [
    {
     "name": "stdout",
     "output_type": "stream",
     "text": [
      "4\n",
      "12\n",
      "60\n"
     ]
    }
   ],
   "source": [
    "#q17\n",
    "dict1={\n",
    "    \"A\":4,\n",
    "    \"B\":3,\n",
    "    \"C\":5,\n",
    "}\n",
    "mul=1\n",
    "for key,value in dict1.items():\n",
    "    mul=mul*value\n",
    "    print(mul)"
   ]
  },
  {
   "cell_type": "code",
   "execution_count": null,
   "metadata": {},
   "outputs": [],
   "source": []
  }
 ],
 "metadata": {
  "kernelspec": {
   "display_name": "Python 3",
   "language": "python",
   "name": "python3"
  },
  "language_info": {
   "codemirror_mode": {
    "name": "ipython",
    "version": 3
   },
   "file_extension": ".py",
   "mimetype": "text/x-python",
   "name": "python",
   "nbconvert_exporter": "python",
   "pygments_lexer": "ipython3",
   "version": "3.7.4"
  }
 },
 "nbformat": 4,
 "nbformat_minor": 2
}
