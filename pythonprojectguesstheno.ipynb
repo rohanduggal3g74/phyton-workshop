{
 "cells": [
  {
   "cell_type": "code",
   "execution_count": 1,
   "metadata": {},
   "outputs": [
    {
     "name": "stdout",
     "output_type": "stream",
     "text": [
      "17\n",
      "Guess the num: 17\n",
      "Congrats you guessed the correct number!!!!!!! \n"
     ]
    }
   ],
   "source": [
    "import random\n",
    "import sys\n",
    "a = random.randint(0,100)\n",
    "print(a)\n",
    "\n",
    "def seeIfCOnt():\n",
    "    try:\n",
    "        cont = str(input(\"Do you wish to continue(input y for yes):  \"))\n",
    "        if cont == \"y\":\n",
    "            return True\n",
    "        else:\n",
    "           return False\n",
    "    except:\n",
    "         print(\"Please enter valid string input\")\n",
    "         seeIfCOnt()\n",
    "\n",
    "def numGuess():\n",
    "    try:\n",
    "        b = int(input(\"Guess the num: \"))\n",
    "        d =  abs(a-b)\n",
    "        if b == a:\n",
    "            print(\"Congrats you guessed the correct number!!!!!!! \")\n",
    "        elif d < 6:\n",
    "            print(\"You are close\")\n",
    "            cont = seeIfCOnt()\n",
    "            if cont:\n",
    "                numGuess()\n",
    "            else:\n",
    "                return\n",
    "\n",
    "        elif a < b:\n",
    "            print(\"the num entered is greater\")\n",
    "            cont = seeIfCOnt()\n",
    "            if cont:\n",
    "                numGuess()\n",
    "            else:\n",
    "                return\n",
    "\n",
    "        else:\n",
    "            print(\"the num entered is smaller\")\n",
    "            cont = seeIfCOnt()\n",
    "            if cont:\n",
    "                numGuess()\n",
    "            else:\n",
    "                return\n",
    "\n",
    "\n",
    "    except:\n",
    "        #print(\"invalid input: \"+str(b))\n",
    "        cont = seeIfCOnt()\n",
    "        if cont:\n",
    "            numGuess()\n",
    "        else:\n",
    "            return\n",
    "\n",
    "\n",
    "\n",
    "if __name__ == \"__main__\":\n",
    "    numGuess()"
   ]
  },
  {
   "cell_type": "code",
   "execution_count": null,
   "metadata": {},
   "outputs": [],
   "source": []
  }
 ],
 "metadata": {
  "kernelspec": {
   "display_name": "Python 3",
   "language": "python",
   "name": "python3"
  },
  "language_info": {
   "codemirror_mode": {
    "name": "ipython",
    "version": 3
   },
   "file_extension": ".py",
   "mimetype": "text/x-python",
   "name": "python",
   "nbconvert_exporter": "python",
   "pygments_lexer": "ipython3",
   "version": "3.7.4"
  }
 },
 "nbformat": 4,
 "nbformat_minor": 2
}
